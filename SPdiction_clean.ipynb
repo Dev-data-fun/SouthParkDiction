{
  "nbformat": 4,
  "nbformat_minor": 0,
  "metadata": {
    "colab": {
      "name": "SPdiction_clean.ipynb",
      "provenance": []
    },
    "kernelspec": {
      "name": "python3",
      "display_name": "Python 3"
    }
  },
  "cells": [
    {
      "cell_type": "code",
      "metadata": {
        "id": "34bwXn8UUZ9y",
        "colab_type": "code",
        "colab": {}
      },
      "source": [
        "import pandas as pd\n",
        "import re"
      ],
      "execution_count": 0,
      "outputs": []
    },
    {
      "cell_type": "code",
      "metadata": {
        "id": "9QQBmFhRUv6-",
        "colab_type": "code",
        "colab": {}
      },
      "source": [
        "df_raw = pd.read_csv('/content/drive/My Drive/characterUtterances.csv')"
      ],
      "execution_count": 0,
      "outputs": []
    },
    {
      "cell_type": "code",
      "metadata": {
        "id": "nD8TKOweUpND",
        "colab_type": "code",
        "colab": {
          "base_uri": "https://localhost:8080/",
          "height": 206
        },
        "outputId": "9a2174fb-66a5-4670-8772-a4460732879b"
      },
      "source": [
        "df_raw.head()"
      ],
      "execution_count": 3,
      "outputs": [
        {
          "output_type": "execute_result",
          "data": {
            "text/html": [
              "<div>\n",
              "<style scoped>\n",
              "    .dataframe tbody tr th:only-of-type {\n",
              "        vertical-align: middle;\n",
              "    }\n",
              "\n",
              "    .dataframe tbody tr th {\n",
              "        vertical-align: top;\n",
              "    }\n",
              "\n",
              "    .dataframe thead th {\n",
              "        text-align: right;\n",
              "    }\n",
              "</style>\n",
              "<table border=\"1\" class=\"dataframe\">\n",
              "  <thead>\n",
              "    <tr style=\"text-align: right;\">\n",
              "      <th></th>\n",
              "      <th>Season</th>\n",
              "      <th>Episode</th>\n",
              "      <th>Character</th>\n",
              "      <th>Line</th>\n",
              "    </tr>\n",
              "  </thead>\n",
              "  <tbody>\n",
              "    <tr>\n",
              "      <th>0</th>\n",
              "      <td>10</td>\n",
              "      <td>1</td>\n",
              "      <td>Stan</td>\n",
              "      <td>You guys, you guys! Chef is going away. \\n</td>\n",
              "    </tr>\n",
              "    <tr>\n",
              "      <th>1</th>\n",
              "      <td>10</td>\n",
              "      <td>1</td>\n",
              "      <td>Kyle</td>\n",
              "      <td>Going away? For how long?\\n</td>\n",
              "    </tr>\n",
              "    <tr>\n",
              "      <th>2</th>\n",
              "      <td>10</td>\n",
              "      <td>1</td>\n",
              "      <td>Stan</td>\n",
              "      <td>Forever.\\n</td>\n",
              "    </tr>\n",
              "    <tr>\n",
              "      <th>3</th>\n",
              "      <td>10</td>\n",
              "      <td>1</td>\n",
              "      <td>Chef</td>\n",
              "      <td>I'm sorry boys.\\n</td>\n",
              "    </tr>\n",
              "    <tr>\n",
              "      <th>4</th>\n",
              "      <td>10</td>\n",
              "      <td>1</td>\n",
              "      <td>Stan</td>\n",
              "      <td>Chef said he's been bored, so he joining a gro...</td>\n",
              "    </tr>\n",
              "  </tbody>\n",
              "</table>\n",
              "</div>"
            ],
            "text/plain": [
              "  Season Episode Character                                               Line\n",
              "0     10       1      Stan         You guys, you guys! Chef is going away. \\n\n",
              "1     10       1      Kyle                        Going away? For how long?\\n\n",
              "2     10       1      Stan                                         Forever.\\n\n",
              "3     10       1      Chef                                  I'm sorry boys.\\n\n",
              "4     10       1      Stan  Chef said he's been bored, so he joining a gro..."
            ]
          },
          "metadata": {
            "tags": []
          },
          "execution_count": 3
        }
      ]
    },
    {
      "cell_type": "markdown",
      "metadata": {
        "id": "ja3CT7RqYxoJ",
        "colab_type": "text"
      },
      "source": [
        "Quickly check there are no missing values in the data..."
      ]
    },
    {
      "cell_type": "code",
      "metadata": {
        "id": "4-pnY2U6WGMG",
        "colab_type": "code",
        "colab": {
          "base_uri": "https://localhost:8080/",
          "height": 104
        },
        "outputId": "52fcc184-e558-43d9-bd67-24a734f5f9fd"
      },
      "source": [
        "df_raw.isnull().sum()"
      ],
      "execution_count": 4,
      "outputs": [
        {
          "output_type": "execute_result",
          "data": {
            "text/plain": [
              "Season       0\n",
              "Episode      0\n",
              "Character    0\n",
              "Line         0\n",
              "dtype: int64"
            ]
          },
          "metadata": {
            "tags": []
          },
          "execution_count": 4
        }
      ]
    },
    {
      "cell_type": "code",
      "metadata": {
        "id": "xXzyR4NigJQR",
        "colab_type": "code",
        "colab": {}
      },
      "source": [
        "df = df_raw.copy()"
      ],
      "execution_count": 0,
      "outputs": []
    },
    {
      "cell_type": "markdown",
      "metadata": {
        "id": "zET4mLdeY0vK",
        "colab_type": "text"
      },
      "source": [
        "Nice and clean! Lucky us... Let's now remove those trailing new line characters...\n"
      ]
    },
    {
      "cell_type": "code",
      "metadata": {
        "id": "rc1JG-FxYbDb",
        "colab_type": "code",
        "colab": {}
      },
      "source": [
        "df['Line'] = df['Line'].map(lambda x: x.rstrip())"
      ],
      "execution_count": 0,
      "outputs": []
    },
    {
      "cell_type": "code",
      "metadata": {
        "id": "7w-WnQrcZJU4",
        "colab_type": "code",
        "colab": {
          "base_uri": "https://localhost:8080/",
          "height": 206
        },
        "outputId": "88624bd4-1f7f-4d05-9437-6d9a164ae1ba"
      },
      "source": [
        "df.head()"
      ],
      "execution_count": 7,
      "outputs": [
        {
          "output_type": "execute_result",
          "data": {
            "text/html": [
              "<div>\n",
              "<style scoped>\n",
              "    .dataframe tbody tr th:only-of-type {\n",
              "        vertical-align: middle;\n",
              "    }\n",
              "\n",
              "    .dataframe tbody tr th {\n",
              "        vertical-align: top;\n",
              "    }\n",
              "\n",
              "    .dataframe thead th {\n",
              "        text-align: right;\n",
              "    }\n",
              "</style>\n",
              "<table border=\"1\" class=\"dataframe\">\n",
              "  <thead>\n",
              "    <tr style=\"text-align: right;\">\n",
              "      <th></th>\n",
              "      <th>Season</th>\n",
              "      <th>Episode</th>\n",
              "      <th>Character</th>\n",
              "      <th>Line</th>\n",
              "    </tr>\n",
              "  </thead>\n",
              "  <tbody>\n",
              "    <tr>\n",
              "      <th>0</th>\n",
              "      <td>10</td>\n",
              "      <td>1</td>\n",
              "      <td>Stan</td>\n",
              "      <td>You guys, you guys! Chef is going away.</td>\n",
              "    </tr>\n",
              "    <tr>\n",
              "      <th>1</th>\n",
              "      <td>10</td>\n",
              "      <td>1</td>\n",
              "      <td>Kyle</td>\n",
              "      <td>Going away? For how long?</td>\n",
              "    </tr>\n",
              "    <tr>\n",
              "      <th>2</th>\n",
              "      <td>10</td>\n",
              "      <td>1</td>\n",
              "      <td>Stan</td>\n",
              "      <td>Forever.</td>\n",
              "    </tr>\n",
              "    <tr>\n",
              "      <th>3</th>\n",
              "      <td>10</td>\n",
              "      <td>1</td>\n",
              "      <td>Chef</td>\n",
              "      <td>I'm sorry boys.</td>\n",
              "    </tr>\n",
              "    <tr>\n",
              "      <th>4</th>\n",
              "      <td>10</td>\n",
              "      <td>1</td>\n",
              "      <td>Stan</td>\n",
              "      <td>Chef said he's been bored, so he joining a gro...</td>\n",
              "    </tr>\n",
              "  </tbody>\n",
              "</table>\n",
              "</div>"
            ],
            "text/plain": [
              "  Season Episode Character                                               Line\n",
              "0     10       1      Stan            You guys, you guys! Chef is going away.\n",
              "1     10       1      Kyle                          Going away? For how long?\n",
              "2     10       1      Stan                                           Forever.\n",
              "3     10       1      Chef                                    I'm sorry boys.\n",
              "4     10       1      Stan  Chef said he's been bored, so he joining a gro..."
            ]
          },
          "metadata": {
            "tags": []
          },
          "execution_count": 7
        }
      ]
    },
    {
      "cell_type": "markdown",
      "metadata": {
        "id": "2sGLeDeUq_Qj",
        "colab_type": "text"
      },
      "source": [
        "After initially cleaning the data I noticed elipses were causing an issue when using a single regular expression to remove punctuation... The elipses would be removed, but when they are used to indicate a stutter, as in: \"b...but\", there are no spaces seperating the characters. In light of this, we need to remove all repeated occurences of a fullstop, replace it with a blank space, then strip regular punctuation... We map these semi-processed string to a new collumn so we may easily extract the unprocessed test lines for human evaluation (much later on)..."
      ]
    },
    {
      "cell_type": "code",
      "metadata": {
        "id": "pBanwOcVrbvE",
        "colab_type": "code",
        "colab": {}
      },
      "source": [
        "df['Processed Line'] = df['Line'].map(lambda x: re.sub('\\.{2,}',' ', x))"
      ],
      "execution_count": 0,
      "outputs": []
    },
    {
      "cell_type": "markdown",
      "metadata": {
        "id": "y4yJQe0aZafb",
        "colab_type": "text"
      },
      "source": [
        "Remove uppercasing and pesky punctuation..."
      ]
    },
    {
      "cell_type": "code",
      "metadata": {
        "id": "cwRtBKq8ZLo2",
        "colab_type": "code",
        "colab": {}
      },
      "source": [
        "df['Processed Line'] = df['Processed Line'].map(lambda x: re.sub('[^\\w\\s]','', x).lower())"
      ],
      "execution_count": 0,
      "outputs": []
    },
    {
      "cell_type": "code",
      "metadata": {
        "id": "dhbqUISfZzxr",
        "colab_type": "code",
        "colab": {
          "base_uri": "https://localhost:8080/",
          "height": 206
        },
        "outputId": "547cee9b-1af9-4297-94c3-057c91293278"
      },
      "source": [
        "df.head()"
      ],
      "execution_count": 10,
      "outputs": [
        {
          "output_type": "execute_result",
          "data": {
            "text/html": [
              "<div>\n",
              "<style scoped>\n",
              "    .dataframe tbody tr th:only-of-type {\n",
              "        vertical-align: middle;\n",
              "    }\n",
              "\n",
              "    .dataframe tbody tr th {\n",
              "        vertical-align: top;\n",
              "    }\n",
              "\n",
              "    .dataframe thead th {\n",
              "        text-align: right;\n",
              "    }\n",
              "</style>\n",
              "<table border=\"1\" class=\"dataframe\">\n",
              "  <thead>\n",
              "    <tr style=\"text-align: right;\">\n",
              "      <th></th>\n",
              "      <th>Season</th>\n",
              "      <th>Episode</th>\n",
              "      <th>Character</th>\n",
              "      <th>Line</th>\n",
              "      <th>Processed Line</th>\n",
              "    </tr>\n",
              "  </thead>\n",
              "  <tbody>\n",
              "    <tr>\n",
              "      <th>0</th>\n",
              "      <td>10</td>\n",
              "      <td>1</td>\n",
              "      <td>Stan</td>\n",
              "      <td>You guys, you guys! Chef is going away.</td>\n",
              "      <td>you guys you guys chef is going away</td>\n",
              "    </tr>\n",
              "    <tr>\n",
              "      <th>1</th>\n",
              "      <td>10</td>\n",
              "      <td>1</td>\n",
              "      <td>Kyle</td>\n",
              "      <td>Going away? For how long?</td>\n",
              "      <td>going away for how long</td>\n",
              "    </tr>\n",
              "    <tr>\n",
              "      <th>2</th>\n",
              "      <td>10</td>\n",
              "      <td>1</td>\n",
              "      <td>Stan</td>\n",
              "      <td>Forever.</td>\n",
              "      <td>forever</td>\n",
              "    </tr>\n",
              "    <tr>\n",
              "      <th>3</th>\n",
              "      <td>10</td>\n",
              "      <td>1</td>\n",
              "      <td>Chef</td>\n",
              "      <td>I'm sorry boys.</td>\n",
              "      <td>im sorry boys</td>\n",
              "    </tr>\n",
              "    <tr>\n",
              "      <th>4</th>\n",
              "      <td>10</td>\n",
              "      <td>1</td>\n",
              "      <td>Stan</td>\n",
              "      <td>Chef said he's been bored, so he joining a gro...</td>\n",
              "      <td>chef said hes been bored so he joining a group...</td>\n",
              "    </tr>\n",
              "  </tbody>\n",
              "</table>\n",
              "</div>"
            ],
            "text/plain": [
              "  Season  ...                                     Processed Line\n",
              "0     10  ...               you guys you guys chef is going away\n",
              "1     10  ...                            going away for how long\n",
              "2     10  ...                                            forever\n",
              "3     10  ...                                      im sorry boys\n",
              "4     10  ...  chef said hes been bored so he joining a group...\n",
              "\n",
              "[5 rows x 5 columns]"
            ]
          },
          "metadata": {
            "tags": []
          },
          "execution_count": 10
        }
      ]
    },
    {
      "cell_type": "markdown",
      "metadata": {
        "id": "wovhyUWxaOiX",
        "colab_type": "text"
      },
      "source": [
        "Since we are interested in character diction, we ought to determine a minimum length for strings in the dataframe, it is not likely diction can be detected from a singular word, wouldn't you agree?\n",
        "\n",
        "Let us first count the number of words in each string, to better determine a lower bound on the length - we don't want to throw away too much data..."
      ]
    },
    {
      "cell_type": "code",
      "metadata": {
        "id": "m3Ryr9UBZ09B",
        "colab_type": "code",
        "colab": {}
      },
      "source": [
        "counts = df['Line'].str.count(' ').add(1).value_counts(sort=False)\n",
        "counts.sort_index(inplace=True)"
      ],
      "execution_count": 0,
      "outputs": []
    },
    {
      "cell_type": "code",
      "metadata": {
        "id": "XOgCJHpeaoe1",
        "colab_type": "code",
        "colab": {
          "base_uri": "https://localhost:8080/",
          "height": 225
        },
        "outputId": "32d520d7-e6d6-48e7-e2e2-f473eddec421"
      },
      "source": [
        "counts"
      ],
      "execution_count": 12,
      "outputs": [
        {
          "output_type": "execute_result",
          "data": {
            "text/plain": [
              "1      6681\n",
              "2      4946\n",
              "3      4758\n",
              "4      4749\n",
              "5      4569\n",
              "       ... \n",
              "257       1\n",
              "261       1\n",
              "263       2\n",
              "265       1\n",
              "305       1\n",
              "Name: Line, Length: 181, dtype: int64"
            ]
          },
          "metadata": {
            "tags": []
          },
          "execution_count": 12
        }
      ]
    },
    {
      "cell_type": "markdown",
      "metadata": {
        "id": "2M0kn28ZdpT4",
        "colab_type": "text"
      },
      "source": [
        "We can see there are thousands of short utterances, these are not very informative and the character is unlikely to be identifiable based on so few words... Obviously with the exception of character 'sayings', such as 'screw you guys' (Cartman). \n",
        "\n",
        "Let us see how much data will be lost if we proceed in this manner..."
      ]
    },
    {
      "cell_type": "code",
      "metadata": {
        "id": "VuXTu9Dqa8IS",
        "colab_type": "code",
        "colab": {
          "base_uri": "https://localhost:8080/",
          "height": 34
        },
        "outputId": "f84bf246-f1e4-4aed-97a3-7d85ceb02769"
      },
      "source": [
        "LOWER_BOUND = 4 # Min words per sentence\n",
        "\n",
        "print('Exlcuding sentences with less than {} words drops {:.2f}% data'.format(\n",
        "    LOWER_BOUND, 100-counts[LOWER_BOUND-1:].sum()/len(df)*100)\n",
        ")"
      ],
      "execution_count": 13,
      "outputs": [
        {
          "output_type": "stream",
          "text": [
            "Exlcuding sentences with less than 4 words drops 23.11% data\n"
          ],
          "name": "stdout"
        }
      ]
    },
    {
      "cell_type": "markdown",
      "metadata": {
        "id": "HkrxnhyPeN3Q",
        "colab_type": "text"
      },
      "source": [
        "We are going to lose some data, but the remaining sentences will have richer information. \n",
        "\n",
        "Let us drop those shorter rows..."
      ]
    },
    {
      "cell_type": "code",
      "metadata": {
        "id": "Keq-gUw0fTp9",
        "colab_type": "code",
        "colab": {}
      },
      "source": [
        "df = df[df['Line'].str.count(' ')>LOWER_BOUND-2]"
      ],
      "execution_count": 0,
      "outputs": []
    },
    {
      "cell_type": "code",
      "metadata": {
        "id": "_ntlcRj9h7_x",
        "colab_type": "code",
        "colab": {
          "base_uri": "https://localhost:8080/",
          "height": 206
        },
        "outputId": "97e35058-feee-4542-9c12-78c43869e21d"
      },
      "source": [
        "df.head()"
      ],
      "execution_count": 15,
      "outputs": [
        {
          "output_type": "execute_result",
          "data": {
            "text/html": [
              "<div>\n",
              "<style scoped>\n",
              "    .dataframe tbody tr th:only-of-type {\n",
              "        vertical-align: middle;\n",
              "    }\n",
              "\n",
              "    .dataframe tbody tr th {\n",
              "        vertical-align: top;\n",
              "    }\n",
              "\n",
              "    .dataframe thead th {\n",
              "        text-align: right;\n",
              "    }\n",
              "</style>\n",
              "<table border=\"1\" class=\"dataframe\">\n",
              "  <thead>\n",
              "    <tr style=\"text-align: right;\">\n",
              "      <th></th>\n",
              "      <th>Season</th>\n",
              "      <th>Episode</th>\n",
              "      <th>Character</th>\n",
              "      <th>Line</th>\n",
              "      <th>Processed Line</th>\n",
              "    </tr>\n",
              "  </thead>\n",
              "  <tbody>\n",
              "    <tr>\n",
              "      <th>0</th>\n",
              "      <td>10</td>\n",
              "      <td>1</td>\n",
              "      <td>Stan</td>\n",
              "      <td>You guys, you guys! Chef is going away.</td>\n",
              "      <td>you guys you guys chef is going away</td>\n",
              "    </tr>\n",
              "    <tr>\n",
              "      <th>1</th>\n",
              "      <td>10</td>\n",
              "      <td>1</td>\n",
              "      <td>Kyle</td>\n",
              "      <td>Going away? For how long?</td>\n",
              "      <td>going away for how long</td>\n",
              "    </tr>\n",
              "    <tr>\n",
              "      <th>4</th>\n",
              "      <td>10</td>\n",
              "      <td>1</td>\n",
              "      <td>Stan</td>\n",
              "      <td>Chef said he's been bored, so he joining a gro...</td>\n",
              "      <td>chef said hes been bored so he joining a group...</td>\n",
              "    </tr>\n",
              "    <tr>\n",
              "      <th>6</th>\n",
              "      <td>10</td>\n",
              "      <td>1</td>\n",
              "      <td>Mrs. Garrison</td>\n",
              "      <td>Chef?? What kind of questions do you think adv...</td>\n",
              "      <td>chef what kind of questions do you think adven...</td>\n",
              "    </tr>\n",
              "    <tr>\n",
              "      <th>7</th>\n",
              "      <td>10</td>\n",
              "      <td>1</td>\n",
              "      <td>Chef</td>\n",
              "      <td>What's the meaning of life? Why are we here?</td>\n",
              "      <td>whats the meaning of life why are we here</td>\n",
              "    </tr>\n",
              "  </tbody>\n",
              "</table>\n",
              "</div>"
            ],
            "text/plain": [
              "  Season  ...                                     Processed Line\n",
              "0     10  ...               you guys you guys chef is going away\n",
              "1     10  ...                            going away for how long\n",
              "4     10  ...  chef said hes been bored so he joining a group...\n",
              "6     10  ...  chef what kind of questions do you think adven...\n",
              "7     10  ...          whats the meaning of life why are we here\n",
              "\n",
              "[5 rows x 5 columns]"
            ]
          },
          "metadata": {
            "tags": []
          },
          "execution_count": 15
        }
      ]
    },
    {
      "cell_type": "markdown",
      "metadata": {
        "id": "6KnpAZPsiw_z",
        "colab_type": "text"
      },
      "source": [
        "We are next going to drop all irrelevant characters, let us look at the top 10 characters and their line count.\n",
        "\n",
        "I have printed out the line count for the lower bound dataset, and the raw dataset, just to check a single character hasn't lost too many lines..."
      ]
    },
    {
      "cell_type": "code",
      "metadata": {
        "id": "qRxVuZEih8-D",
        "colab_type": "code",
        "colab": {
          "base_uri": "https://localhost:8080/",
          "height": 208
        },
        "outputId": "c830bae5-3a83-4db5-df2b-45e0a0d8f3d3"
      },
      "source": [
        "df['Character'].value_counts()[:10]"
      ],
      "execution_count": 16,
      "outputs": [
        {
          "output_type": "execute_result",
          "data": {
            "text/plain": [
              "Cartman         7944\n",
              "Stan            5638\n",
              "Kyle            5230\n",
              "Randy           2008\n",
              "Butters         1923\n",
              "Mr. Garrison     869\n",
              "Chef             707\n",
              "Sharon           696\n",
              "Mr. Mackey       552\n",
              "Jimmy            508\n",
              "Name: Character, dtype: int64"
            ]
          },
          "metadata": {
            "tags": []
          },
          "execution_count": 16
        }
      ]
    },
    {
      "cell_type": "code",
      "metadata": {
        "id": "HXNZ-ENelS0O",
        "colab_type": "code",
        "colab": {
          "base_uri": "https://localhost:8080/",
          "height": 208
        },
        "outputId": "fc57ccef-9308-4481-dc83-b25c61f1714e"
      },
      "source": [
        "df_raw['Character'].value_counts()[:10]"
      ],
      "execution_count": 17,
      "outputs": [
        {
          "output_type": "execute_result",
          "data": {
            "text/plain": [
              "Cartman         9774\n",
              "Stan            7680\n",
              "Kyle            7099\n",
              "Butters         2602\n",
              "Randy           2467\n",
              "Mr. Garrison    1002\n",
              "Chef             917\n",
              "Kenny            881\n",
              "Sharon           862\n",
              "Mr. Mackey       633\n",
              "Name: Character, dtype: int64"
            ]
          },
          "metadata": {
            "tags": []
          },
          "execution_count": 17
        }
      ]
    },
    {
      "cell_type": "markdown",
      "metadata": {
        "id": "IjKrixqWleUf",
        "colab_type": "text"
      },
      "source": [
        "Some characters have significantly more lines than others, so we are clearly working with an imbalanced dataset. This is fine though, we will simply use an appropriate metric when determining model score.\n",
        "\n",
        "Another thing we should consider, some characters are going to be easily identified based on a single, repeated word, such as Mr. Mackey who always says 'mkay', or Kenny, who constantly uses expletives. We want to look at general language structure and not have the model hone in on these common phrases. For this reason, we are going to select the following characters:\n",
        "\n",
        "\n",
        "\n",
        "1.   Cartman\n",
        "2.   Stan\n",
        "3.   Kyle\n",
        "4.   Butters\n",
        "5.   Randy\n",
        "6.   Mr. Garrison\n",
        "\n",
        "(For the time being)\n",
        "\n",
        "This leaves us with ~23k sentences...\n",
        "\n"
      ]
    },
    {
      "cell_type": "code",
      "metadata": {
        "id": "kgPhTqcgjPE-",
        "colab_type": "code",
        "colab": {
          "base_uri": "https://localhost:8080/",
          "height": 34
        },
        "outputId": "f0274399-0e2d-4af9-af07-5b861a0ac989"
      },
      "source": [
        "df['Character'].value_counts()[:6].sum()"
      ],
      "execution_count": 18,
      "outputs": [
        {
          "output_type": "execute_result",
          "data": {
            "text/plain": [
              "23612"
            ]
          },
          "metadata": {
            "tags": []
          },
          "execution_count": 18
        }
      ]
    },
    {
      "cell_type": "code",
      "metadata": {
        "id": "Cg3zAtrJlCgQ",
        "colab_type": "code",
        "colab": {}
      },
      "source": [
        "# Considered characters\n",
        "valid_characters = ['Cartman', 'Stan', 'Kyle', 'Butters', \n",
        "                    'Randy', 'Mr. Garrison']"
      ],
      "execution_count": 0,
      "outputs": []
    },
    {
      "cell_type": "code",
      "metadata": {
        "id": "xzwbnld4nydM",
        "colab_type": "code",
        "colab": {}
      },
      "source": [
        "char_df = df[df['Character'].isin(valid_characters)]"
      ],
      "execution_count": 0,
      "outputs": []
    },
    {
      "cell_type": "code",
      "metadata": {
        "id": "HUUoqILHoXSN",
        "colab_type": "code",
        "colab": {
          "base_uri": "https://localhost:8080/",
          "height": 206
        },
        "outputId": "513372eb-a6a5-4c9b-ad8d-e305c9f2c46f"
      },
      "source": [
        "char_df.head()"
      ],
      "execution_count": 21,
      "outputs": [
        {
          "output_type": "execute_result",
          "data": {
            "text/html": [
              "<div>\n",
              "<style scoped>\n",
              "    .dataframe tbody tr th:only-of-type {\n",
              "        vertical-align: middle;\n",
              "    }\n",
              "\n",
              "    .dataframe tbody tr th {\n",
              "        vertical-align: top;\n",
              "    }\n",
              "\n",
              "    .dataframe thead th {\n",
              "        text-align: right;\n",
              "    }\n",
              "</style>\n",
              "<table border=\"1\" class=\"dataframe\">\n",
              "  <thead>\n",
              "    <tr style=\"text-align: right;\">\n",
              "      <th></th>\n",
              "      <th>Season</th>\n",
              "      <th>Episode</th>\n",
              "      <th>Character</th>\n",
              "      <th>Line</th>\n",
              "      <th>Processed Line</th>\n",
              "    </tr>\n",
              "  </thead>\n",
              "  <tbody>\n",
              "    <tr>\n",
              "      <th>0</th>\n",
              "      <td>10</td>\n",
              "      <td>1</td>\n",
              "      <td>Stan</td>\n",
              "      <td>You guys, you guys! Chef is going away.</td>\n",
              "      <td>you guys you guys chef is going away</td>\n",
              "    </tr>\n",
              "    <tr>\n",
              "      <th>1</th>\n",
              "      <td>10</td>\n",
              "      <td>1</td>\n",
              "      <td>Kyle</td>\n",
              "      <td>Going away? For how long?</td>\n",
              "      <td>going away for how long</td>\n",
              "    </tr>\n",
              "    <tr>\n",
              "      <th>4</th>\n",
              "      <td>10</td>\n",
              "      <td>1</td>\n",
              "      <td>Stan</td>\n",
              "      <td>Chef said he's been bored, so he joining a gro...</td>\n",
              "      <td>chef said hes been bored so he joining a group...</td>\n",
              "    </tr>\n",
              "    <tr>\n",
              "      <th>9</th>\n",
              "      <td>10</td>\n",
              "      <td>1</td>\n",
              "      <td>Cartman</td>\n",
              "      <td>I'm gonna miss him.  I'm gonna miss Chef and I...</td>\n",
              "      <td>im gonna miss him  im gonna miss chef and i an...</td>\n",
              "    </tr>\n",
              "    <tr>\n",
              "      <th>10</th>\n",
              "      <td>10</td>\n",
              "      <td>1</td>\n",
              "      <td>Stan</td>\n",
              "      <td>Dude, how are we gonna go on? Chef was our fuh...</td>\n",
              "      <td>dude how are we gonna go on chef was our fuh f...</td>\n",
              "    </tr>\n",
              "  </tbody>\n",
              "</table>\n",
              "</div>"
            ],
            "text/plain": [
              "   Season  ...                                     Processed Line\n",
              "0      10  ...               you guys you guys chef is going away\n",
              "1      10  ...                            going away for how long\n",
              "4      10  ...  chef said hes been bored so he joining a group...\n",
              "9      10  ...  im gonna miss him  im gonna miss chef and i an...\n",
              "10     10  ...  dude how are we gonna go on chef was our fuh f...\n",
              "\n",
              "[5 rows x 5 columns]"
            ]
          },
          "metadata": {
            "tags": []
          },
          "execution_count": 21
        }
      ]
    },
    {
      "cell_type": "markdown",
      "metadata": {
        "id": "ItLFGgUisf8w",
        "colab_type": "text"
      },
      "source": [
        "Let us save this processed data as a csv prior to doing some exploration..."
      ]
    },
    {
      "cell_type": "code",
      "metadata": {
        "id": "wwynSFNkpmnz",
        "colab_type": "code",
        "colab": {}
      },
      "source": [
        "SAVE_AS = 'procCharLines.csv'\n",
        "\n",
        "char_df.to_csv(SAVE_AS, header=True)"
      ],
      "execution_count": 0,
      "outputs": []
    },
    {
      "cell_type": "code",
      "metadata": {
        "id": "lhWmZ9irubo1",
        "colab_type": "code",
        "colab": {}
      },
      "source": [
        ""
      ],
      "execution_count": 0,
      "outputs": []
    }
  ]
}