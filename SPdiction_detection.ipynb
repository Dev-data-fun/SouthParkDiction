{
  "nbformat": 4,
  "nbformat_minor": 0,
  "metadata": {
    "colab": {
      "name": "SPdiction_detection.ipynb",
      "provenance": []
    },
    "kernelspec": {
      "name": "python3",
      "display_name": "Python 3"
    }
  },
  "cells": [
    {
      "cell_type": "code",
      "metadata": {
        "id": "fnI3yq-gn-vz",
        "colab_type": "code",
        "colab": {}
      },
      "source": [
        "%tensorflow_version 2.x\n",
        "\n",
        "import pandas as pd\n",
        "import numpy as np\n",
        "import tensorflow as tf\n",
        "import tensorflow_hub as hub\n",
        "from datetime import datetime\n",
        "from tensorflow import keras as k\n",
        "\n",
        "from tensorflow.keras import layers as l\n",
        "\n",
        "from sklearn.model_selection import train_test_split"
      ],
      "execution_count": 0,
      "outputs": []
    },
    {
      "cell_type": "code",
      "metadata": {
        "id": "XjdL9zSfpivf",
        "colab_type": "code",
        "colab": {}
      },
      "source": [
        "df = pd.read_csv('/content/drive/My Drive/procSelectCharLines.csv')"
      ],
      "execution_count": 0,
      "outputs": []
    },
    {
      "cell_type": "code",
      "metadata": {
        "id": "CXzvBy76pnZG",
        "colab_type": "code",
        "outputId": "87952ed5-fe16-463d-f0b3-7f2c4c8b6907",
        "colab": {
          "base_uri": "https://localhost:8080/",
          "height": 204
        }
      },
      "source": [
        "df.head()"
      ],
      "execution_count": 0,
      "outputs": [
        {
          "output_type": "execute_result",
          "data": {
            "text/html": [
              "<div>\n",
              "<style scoped>\n",
              "    .dataframe tbody tr th:only-of-type {\n",
              "        vertical-align: middle;\n",
              "    }\n",
              "\n",
              "    .dataframe tbody tr th {\n",
              "        vertical-align: top;\n",
              "    }\n",
              "\n",
              "    .dataframe thead th {\n",
              "        text-align: right;\n",
              "    }\n",
              "</style>\n",
              "<table border=\"1\" class=\"dataframe\">\n",
              "  <thead>\n",
              "    <tr style=\"text-align: right;\">\n",
              "      <th></th>\n",
              "      <th>Season</th>\n",
              "      <th>Episode</th>\n",
              "      <th>Character</th>\n",
              "      <th>Line</th>\n",
              "      <th>Processed Line</th>\n",
              "    </tr>\n",
              "  </thead>\n",
              "  <tbody>\n",
              "    <tr>\n",
              "      <th>0</th>\n",
              "      <td>10</td>\n",
              "      <td>1</td>\n",
              "      <td>Stan</td>\n",
              "      <td>You guys, you guys! Chef is going away.</td>\n",
              "      <td>you guys you guys chef is going away</td>\n",
              "    </tr>\n",
              "    <tr>\n",
              "      <th>1</th>\n",
              "      <td>10</td>\n",
              "      <td>1</td>\n",
              "      <td>Kyle</td>\n",
              "      <td>Going away? For how long?</td>\n",
              "      <td>going away for how long</td>\n",
              "    </tr>\n",
              "    <tr>\n",
              "      <th>2</th>\n",
              "      <td>10</td>\n",
              "      <td>1</td>\n",
              "      <td>Stan</td>\n",
              "      <td>Chef said he's been bored, so he joining a gro...</td>\n",
              "      <td>chef said hes been bored so he joining a group...</td>\n",
              "    </tr>\n",
              "    <tr>\n",
              "      <th>3</th>\n",
              "      <td>10</td>\n",
              "      <td>1</td>\n",
              "      <td>Cartman</td>\n",
              "      <td>I'm gonna miss him.  I'm gonna miss Chef and I...</td>\n",
              "      <td>im gonna miss him  im gonna miss chef and i an...</td>\n",
              "    </tr>\n",
              "    <tr>\n",
              "      <th>4</th>\n",
              "      <td>10</td>\n",
              "      <td>1</td>\n",
              "      <td>Stan</td>\n",
              "      <td>Dude, how are we gonna go on? Chef was our fuh...</td>\n",
              "      <td>dude how are we gonna go on chef was our fuh f...</td>\n",
              "    </tr>\n",
              "  </tbody>\n",
              "</table>\n",
              "</div>"
            ],
            "text/plain": [
              "   Season  ...                                     Processed Line\n",
              "0      10  ...               you guys you guys chef is going away\n",
              "1      10  ...                            going away for how long\n",
              "2      10  ...  chef said hes been bored so he joining a group...\n",
              "3      10  ...  im gonna miss him  im gonna miss chef and i an...\n",
              "4      10  ...  dude how are we gonna go on chef was our fuh f...\n",
              "\n",
              "[5 rows x 5 columns]"
            ]
          },
          "metadata": {
            "tags": []
          },
          "execution_count": 3
        }
      ]
    },
    {
      "cell_type": "code",
      "metadata": {
        "id": "sPaNd1nbpoHN",
        "colab_type": "code",
        "colab": {}
      },
      "source": [
        "def map_char(char):\n",
        "  for i, chars in enumerate(df['Character'].unique()):\n",
        "    if char == chars:\n",
        "      return i\n",
        "  \n",
        "  return None"
      ],
      "execution_count": 0,
      "outputs": []
    },
    {
      "cell_type": "code",
      "metadata": {
        "id": "ELn0CtkTqL6u",
        "colab_type": "code",
        "colab": {}
      },
      "source": [
        "df['Target'] = df['Character'].map(map_char)"
      ],
      "execution_count": 0,
      "outputs": []
    },
    {
      "cell_type": "code",
      "metadata": {
        "id": "k-JllJlCqTN6",
        "colab_type": "code",
        "outputId": "6662620d-7db7-46df-87e0-fc108bb13e34",
        "colab": {
          "base_uri": "https://localhost:8080/",
          "height": 204
        }
      },
      "source": [
        "df.head()"
      ],
      "execution_count": 0,
      "outputs": [
        {
          "output_type": "execute_result",
          "data": {
            "text/html": [
              "<div>\n",
              "<style scoped>\n",
              "    .dataframe tbody tr th:only-of-type {\n",
              "        vertical-align: middle;\n",
              "    }\n",
              "\n",
              "    .dataframe tbody tr th {\n",
              "        vertical-align: top;\n",
              "    }\n",
              "\n",
              "    .dataframe thead th {\n",
              "        text-align: right;\n",
              "    }\n",
              "</style>\n",
              "<table border=\"1\" class=\"dataframe\">\n",
              "  <thead>\n",
              "    <tr style=\"text-align: right;\">\n",
              "      <th></th>\n",
              "      <th>Season</th>\n",
              "      <th>Episode</th>\n",
              "      <th>Character</th>\n",
              "      <th>Line</th>\n",
              "      <th>Processed Line</th>\n",
              "      <th>Target</th>\n",
              "    </tr>\n",
              "  </thead>\n",
              "  <tbody>\n",
              "    <tr>\n",
              "      <th>0</th>\n",
              "      <td>10</td>\n",
              "      <td>1</td>\n",
              "      <td>Stan</td>\n",
              "      <td>You guys, you guys! Chef is going away.</td>\n",
              "      <td>you guys you guys chef is going away</td>\n",
              "      <td>0</td>\n",
              "    </tr>\n",
              "    <tr>\n",
              "      <th>1</th>\n",
              "      <td>10</td>\n",
              "      <td>1</td>\n",
              "      <td>Kyle</td>\n",
              "      <td>Going away? For how long?</td>\n",
              "      <td>going away for how long</td>\n",
              "      <td>1</td>\n",
              "    </tr>\n",
              "    <tr>\n",
              "      <th>2</th>\n",
              "      <td>10</td>\n",
              "      <td>1</td>\n",
              "      <td>Stan</td>\n",
              "      <td>Chef said he's been bored, so he joining a gro...</td>\n",
              "      <td>chef said hes been bored so he joining a group...</td>\n",
              "      <td>0</td>\n",
              "    </tr>\n",
              "    <tr>\n",
              "      <th>3</th>\n",
              "      <td>10</td>\n",
              "      <td>1</td>\n",
              "      <td>Cartman</td>\n",
              "      <td>I'm gonna miss him.  I'm gonna miss Chef and I...</td>\n",
              "      <td>im gonna miss him  im gonna miss chef and i an...</td>\n",
              "      <td>2</td>\n",
              "    </tr>\n",
              "    <tr>\n",
              "      <th>4</th>\n",
              "      <td>10</td>\n",
              "      <td>1</td>\n",
              "      <td>Stan</td>\n",
              "      <td>Dude, how are we gonna go on? Chef was our fuh...</td>\n",
              "      <td>dude how are we gonna go on chef was our fuh f...</td>\n",
              "      <td>0</td>\n",
              "    </tr>\n",
              "  </tbody>\n",
              "</table>\n",
              "</div>"
            ],
            "text/plain": [
              "   Season  Episode  ...                                     Processed Line Target\n",
              "0      10        1  ...               you guys you guys chef is going away      0\n",
              "1      10        1  ...                            going away for how long      1\n",
              "2      10        1  ...  chef said hes been bored so he joining a group...      0\n",
              "3      10        1  ...  im gonna miss him  im gonna miss chef and i an...      2\n",
              "4      10        1  ...  dude how are we gonna go on chef was our fuh f...      0\n",
              "\n",
              "[5 rows x 6 columns]"
            ]
          },
          "metadata": {
            "tags": []
          },
          "execution_count": 6
        }
      ]
    },
    {
      "cell_type": "code",
      "metadata": {
        "id": "xLyNz3tQqaKb",
        "colab_type": "code",
        "colab": {}
      },
      "source": [
        "#!wget http://nlp.stanford.edu/data/glove.6B.zip"
      ],
      "execution_count": 0,
      "outputs": []
    },
    {
      "cell_type": "code",
      "metadata": {
        "id": "3PgxM4-4sGOH",
        "colab_type": "code",
        "outputId": "3d95fbe6-198e-4642-c5ce-02c2e26d69e4",
        "colab": {
          "base_uri": "https://localhost:8080/",
          "height": 85
        }
      },
      "source": [
        "# download pretrained GloVe embeddings\n",
        "#!wget \"https://nlp.stanford.edu/data/glove.840B.300d.zip\""
      ],
      "execution_count": 0,
      "outputs": [
        {
          "output_type": "stream",
          "text": [
            "--2020-04-06 13:39:51--  https://nlp.stanford.edu/data/glove.840B.300d.zip\n",
            "Resolving nlp.stanford.edu (nlp.stanford.edu)... 171.64.67.140\n",
            "Connecting to nlp.stanford.edu (nlp.stanford.edu)|171.64.67.140|:443... connected.\n",
            "Unable to establish SSL connection.\n"
          ],
          "name": "stdout"
        }
      ]
    },
    {
      "cell_type": "code",
      "metadata": {
        "id": "cJOC7kRCsXsZ",
        "colab_type": "code",
        "colab": {}
      },
      "source": [
        "RANDOM = 1\n",
        "lines, targets = [], []\n",
        "\n",
        "for line, targ in zip(df['Processed Line'], df['Target']):\n",
        "  lines.append(line)\n",
        "  targets.append(targ)\n",
        "\n",
        "x_train, x_test, y_train,  y_test = train_test_split(lines, targets, \n",
        "                                                    test_size=0.1, \n",
        "                                                    random_state=RANDOM)\n",
        "\n",
        "y_train = np.array(y_train)\n",
        "y_test = np.array(y_test)"
      ],
      "execution_count": 0,
      "outputs": []
    },
    {
      "cell_type": "code",
      "metadata": {
        "id": "YGdwOMZVwVqD",
        "colab_type": "code",
        "colab": {}
      },
      "source": [
        "words = []\n",
        "\n",
        "for line in df['Processed Line']:\n",
        "  tokens = line.split()\n",
        "  words.extend([word for word in tokens])\n",
        "\n",
        "vocab = sorted(set(words))"
      ],
      "execution_count": 0,
      "outputs": []
    },
    {
      "cell_type": "code",
      "metadata": {
        "id": "MOyVUvHixqih",
        "colab_type": "code",
        "outputId": "a1fb2f71-d433-4e4d-ef52-968e40bfe9db",
        "colab": {
          "base_uri": "https://localhost:8080/",
          "height": 34
        }
      },
      "source": [
        "len(vocab)"
      ],
      "execution_count": 0,
      "outputs": [
        {
          "output_type": "execute_result",
          "data": {
            "text/plain": [
              "14636"
            ]
          },
          "metadata": {
            "tags": []
          },
          "execution_count": 9
        }
      ]
    },
    {
      "cell_type": "code",
      "metadata": {
        "id": "fAXEstsDxsHs",
        "colab_type": "code",
        "colab": {}
      },
      "source": [
        "vocab_size = 14500\n",
        "embed_dim = 16\n",
        "max_len = 50\n",
        "trunc = 'post'\n",
        "pad = 'post'\n",
        "oov = '<OOV>'\n",
        "\n",
        "tokenizer = tf.keras.preprocessing.text.Tokenizer(num_words = vocab_size,\n",
        "                                                          oov_token = oov)\n",
        "\n",
        "tokenizer.fit_on_texts(x_train)\n",
        "\n",
        "word2idx = tokenizer.word_index\n",
        "\n",
        "train_seq = tokenizer.texts_to_sequences(x_train)\n",
        "test_seq = tokenizer.texts_to_sequences(x_test)\n",
        "\n",
        "train_pad = tf.keras.preprocessing.sequence.pad_sequences(\n",
        "    train_seq, padding=pad, maxlen=max_len, truncating=trunc\n",
        ")\n",
        "test_pad = tf.keras.preprocessing.sequence.pad_sequences(\n",
        "    test_seq, maxlen=max_len\n",
        ")\n"
      ],
      "execution_count": 0,
      "outputs": []
    },
    {
      "cell_type": "code",
      "metadata": {
        "id": "pcpjM_qIyWr_",
        "colab_type": "code",
        "colab": {}
      },
      "source": [
        "idx2word = dict([(v,k) for (k,v) in word2idx.items()])"
      ],
      "execution_count": 0,
      "outputs": []
    },
    {
      "cell_type": "markdown",
      "metadata": {
        "id": "ourXghgIJNGC",
        "colab_type": "text"
      },
      "source": [
        "## Basic Model - Initial baseline"
      ]
    },
    {
      "cell_type": "code",
      "metadata": {
        "id": "5cJHsq4l85zw",
        "colab_type": "code",
        "colab": {}
      },
      "source": [
        "def build_model(units = 32, layer_type = 'lstm', bidirectional = False, rec_count = 1):\n",
        "  \n",
        "  # units - units in recurrent layers\n",
        "  # layer_type - one of {'lstm', 'gru', 'conv'}\n",
        "  # bidirectional - bidirectional recurrent layers\n",
        "  # rec_count - number of recurrent layers\n",
        "\n",
        "  layer_types = ['lstm', 'gru', 'conv']\n",
        "\n",
        "  if layer_type not in layer_types:\n",
        "    raise ValueError(\"Invalid layer type. Expected one of: {}\".format(repr(layer_types)))\n",
        "  \n",
        "  model = k.Sequential()\n",
        "  # Text modelling begins with embeddings\n",
        "  model.add(k.layers.Embedding(vocab_size, embed_dim, input_length=max_len))\n",
        "\n",
        "  if layer_type == 'lstm':\n",
        "\n",
        "    if bidirectional:\n",
        "      for _ in range(rec_count-1):\n",
        "        # Recurrent layers which pass their outputs to another recurrent layer \n",
        "        # need the `return_sequences` argument set to True.\n",
        "        model.add(k.layers.Bidirectional(k.layers.LSTM(units, return_sequences=True, activation='relu')))\n",
        "      # Final recurrent layer does not need to return sequences\n",
        "      model.add(k.layers.Bidirectional(k.layers.LSTM(units, activation='relu')))\n",
        "\n",
        "    else:\n",
        "      for _ in range(rec_count-1):\n",
        "        model.add(k.layers.LSTM(units, activation='relu', return_sequences=True))\n",
        "      model.add(k.layers.LSTM(units, activation='relu'))\n",
        "\n",
        "  elif layer_type == 'gru':\n",
        "\n",
        "    if bidirectional:\n",
        "      for _ in range(rec_count-1):\n",
        "        model.add(k.layers.Bidirectional(k.layers.GRU(units, activation='relu', return_sequences=True)))\n",
        "      model.add(k.layers.Bidirectional(k.layers.GRU(units, activation='relu')))\n",
        "\n",
        "    else:\n",
        "      for _ in range(rec_count-1):\n",
        "        model.add(k.layers.GRU(units, activation='relu', return_sequences=True))\n",
        "      model.add(k.layers.GRU(units, activation='relu'))\n",
        "\n",
        "  else:\n",
        "\n",
        "    model.add(k.layers.Conv1D(128, 5, activation='relu'))\n",
        "    \n",
        "    # Either average or max pooling may be used - you could even use both\n",
        "    # if using the functional API\n",
        "    model.add(k.layers.GlobalAveragePooling1D())\n",
        "    #model.add(k.layers.GlobalMaxPooling1D())\n",
        "\n",
        "  # Dense layers form the head of our network as usual\n",
        "  model.add(k.layers.Dense(32, activation='relu'))\n",
        "  model.add(k.layers.Dense(6, activation='sigmoid'))\n",
        "\n",
        "  return model"
      ],
      "execution_count": 0,
      "outputs": []
    },
    {
      "cell_type": "code",
      "metadata": {
        "id": "rGK8T-899z0-",
        "colab_type": "code",
        "colab": {}
      },
      "source": [
        "model = build_model(32, 'conv', True, 2)"
      ],
      "execution_count": 0,
      "outputs": []
    },
    {
      "cell_type": "code",
      "metadata": {
        "id": "J7kTNxh2956D",
        "colab_type": "code",
        "colab": {}
      },
      "source": [
        "model.compile(loss='sparse_categorical_crossentropy',optimizer='adam',metrics=['accuracy'])"
      ],
      "execution_count": 0,
      "outputs": []
    },
    {
      "cell_type": "code",
      "metadata": {
        "id": "01mrGPtI-FjF",
        "colab_type": "code",
        "outputId": "37a88cd8-08d8-4a23-ec4f-e20bfc8578c5",
        "colab": {
          "base_uri": "https://localhost:8080/",
          "height": 374
        }
      },
      "source": [
        "epochs = 10\n",
        "model.fit(train_pad, y_train, epochs=epochs, validation_data=(test_pad, y_test))"
      ],
      "execution_count": 0,
      "outputs": [
        {
          "output_type": "stream",
          "text": [
            "Epoch 1/10\n",
            "665/665 [==============================] - 6s 10ms/step - loss: 1.5639 - accuracy: 0.3349 - val_loss: 1.4968 - val_accuracy: 0.3506\n",
            "Epoch 2/10\n",
            "665/665 [==============================] - 6s 9ms/step - loss: 1.4121 - accuracy: 0.3736 - val_loss: 1.4049 - val_accuracy: 0.3980\n",
            "Epoch 3/10\n",
            "665/665 [==============================] - 6s 9ms/step - loss: 1.2422 - accuracy: 0.4485 - val_loss: 1.3849 - val_accuracy: 0.4174\n",
            "Epoch 4/10\n",
            "665/665 [==============================] - 6s 9ms/step - loss: 1.1318 - accuracy: 0.4960 - val_loss: 1.4579 - val_accuracy: 0.3920\n",
            "Epoch 5/10\n",
            "665/665 [==============================] - 6s 10ms/step - loss: 1.0603 - accuracy: 0.5258 - val_loss: 1.4879 - val_accuracy: 0.3908\n",
            "Epoch 6/10\n",
            "665/665 [==============================] - 6s 10ms/step - loss: 1.0039 - accuracy: 0.5592 - val_loss: 1.5697 - val_accuracy: 0.3895\n",
            "Epoch 7/10\n",
            "665/665 [==============================] - 6s 10ms/step - loss: 0.9575 - accuracy: 0.5759 - val_loss: 1.5705 - val_accuracy: 0.3891\n",
            "Epoch 8/10\n",
            "665/665 [==============================] - 6s 9ms/step - loss: 0.9075 - accuracy: 0.6043 - val_loss: 1.6222 - val_accuracy: 0.3912\n",
            "Epoch 9/10\n",
            "665/665 [==============================] - 6s 9ms/step - loss: 0.8624 - accuracy: 0.6325 - val_loss: 1.6606 - val_accuracy: 0.3874\n",
            "Epoch 10/10\n",
            "665/665 [==============================] - 6s 10ms/step - loss: 0.8237 - accuracy: 0.6531 - val_loss: 1.7630 - val_accuracy: 0.3688\n"
          ],
          "name": "stdout"
        },
        {
          "output_type": "execute_result",
          "data": {
            "text/plain": [
              "<tensorflow.python.keras.callbacks.History at 0x7fd8290b31d0>"
            ]
          },
          "metadata": {
            "tags": []
          },
          "execution_count": 15
        }
      ]
    },
    {
      "cell_type": "code",
      "metadata": {
        "id": "oypNOO4S-J_J",
        "colab_type": "code",
        "colab": {}
      },
      "source": [
        ""
      ],
      "execution_count": 0,
      "outputs": []
    },
    {
      "cell_type": "markdown",
      "metadata": {
        "id": "5kFW_4ohA97N",
        "colab_type": "text"
      },
      "source": [
        "Practice BERT"
      ]
    },
    {
      "cell_type": "code",
      "metadata": {
        "id": "r6iD5flXKBaG",
        "colab_type": "code",
        "colab": {}
      },
      "source": [
        ""
      ],
      "execution_count": 0,
      "outputs": []
    }
  ]
}